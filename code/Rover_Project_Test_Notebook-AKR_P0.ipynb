{
 "cells": [
  {
   "cell_type": "markdown",
   "metadata": {},
   "source": [
    "## Rover Project Test Notebook\n",
    "This notebook contains the functions from the lesson and provides the scaffolding you need to test out your mapping methods.  The steps you need to complete in this notebook for the project are the following:\n",
    "\n",
    "* First just run each of the cells in the notebook, examine the code and the results of each.\n",
    "* Run the simulator in \"Training Mode\" and record some data. Note: the simulator may crash if you try to record a large (longer than a few minutes) dataset, but you don't need a ton of data, just some example images to work with.   \n",
    "* Change the data directory path (2 cells below) to be the directory where you saved data\n",
    "* Test out the functions provided on your data\n",
    "* Write new functions (or modify existing ones) to report and map out detections of obstacles and rock samples (yellow rocks)\n",
    "* Populate the `process_image()` function with the appropriate steps/functions to go from a raw image to a worldmap.\n",
    "* Run the cell that calls `process_image()` using `moviepy` functions to create video output\n",
    "* Once you have mapping working, move on to modifying `perception.py` and `decision.py` to allow your rover to navigate and map in autonomous mode!\n",
    "\n",
    "**Note: If, at any point, you encounter frozen display windows or other confounding issues, you can always start again with a clean slate by going to the \"Kernel\" menu above and selecting \"Restart & Clear Output\".**\n",
    "\n",
    "**Run the next cell to get code highlighting in the markdown cells.**"
   ]
  },
  {
   "cell_type": "code",
   "execution_count": 62,
   "metadata": {},
   "outputs": [
    {
     "data": {
      "text/html": [
       "<style> code {background-color : orange !important;} </style>"
      ],
      "text/plain": [
       "<IPython.core.display.HTML object>"
      ]
     },
     "metadata": {},
     "output_type": "display_data"
    }
   ],
   "source": [
    "%%HTML\n",
    "<style> code {background-color : orange !important;} </style>"
   ]
  },
  {
   "cell_type": "code",
   "execution_count": 63,
   "metadata": {
    "collapsed": true,
    "outputExpanded": false
   },
   "outputs": [],
   "source": [
    "#%matplotlib inline\n",
    "%matplotlib qt \n",
    "# Choose %matplotlib qt to plot to an interactive window (note it may show up behind your browser)\n",
    "# Make some of the relevant imports\n",
    "import cv2 # OpenCV for perspective transform\n",
    "import numpy as np\n",
    "import matplotlib.image as mpimg\n",
    "import matplotlib.pyplot as plt\n",
    "import scipy.misc # For saving images as needed\n",
    "import glob  # For reading in a list of images from a folder"
   ]
  },
  {
   "cell_type": "markdown",
   "metadata": {},
   "source": [
    "## Quick Look at the Data\n",
    "There's some example data provided in the `test_dataset` folder.  This basic dataset is enough to get you up and running but if you want to hone your methods more carefully you should record some data of your own to sample various scenarios in the simulator.  \n",
    "\n",
    "Next, read in and display a random image from the `test_dataset` folder"
   ]
  },
  {
   "cell_type": "code",
   "execution_count": 67,
   "metadata": {
    "outputExpanded": false,
    "scrolled": true
   },
   "outputs": [
    {
     "name": "stdout",
     "output_type": "stream",
     "text": [
      "(160, 320, 3)\n"
     ]
    },
    {
     "data": {
      "text/plain": [
       "<matplotlib.image.AxesImage at 0x137fbe390>"
      ]
     },
     "execution_count": 67,
     "metadata": {},
     "output_type": "execute_result"
    }
   ],
   "source": [
    "path = '../test_dataset/IMG/*'\n",
    "img_list = glob.glob(path)\n",
    "# Grab a random image and display it\n",
    "idx = np.random.randint(0, len(img_list)-1)\n",
    "image = mpimg.imread(img_list[idx])\n",
    "print(image.shape)\n",
    "\n",
    "plt.imshow(image)"
   ]
  },
  {
   "cell_type": "markdown",
   "metadata": {},
   "source": [
    "## Calibration Data\n",
    "Read in and display example grid and rock sample calibration images.  You'll use the grid for perspective transform and the rock image for creating a new color selection that identifies these samples of interest. "
   ]
  },
  {
   "cell_type": "code",
   "execution_count": 40,
   "metadata": {},
   "outputs": [
    {
     "data": {
      "text/plain": [
       "<matplotlib.image.AxesImage at 0x132232a20>"
      ]
     },
     "execution_count": 40,
     "metadata": {},
     "output_type": "execute_result"
    }
   ],
   "source": [
    "# In the simulator you can toggle on a grid on the ground for calibration\n",
    "# You can also toggle on the rock samples with the 0 (zero) key.  \n",
    "# Here's an example of the grid and one of the rocks\n",
    "example_grid = '../calibration_images/example_grid1.jpg'\n",
    "example_rock = '../calibration_images/example_rock1.jpg'\n",
    "grid_img = mpimg.imread(example_grid)\n",
    "rock_img = mpimg.imread(example_rock)\n",
    "\n",
    "fig = plt.figure(figsize=(12,3))\n",
    "plt.subplot(121)\n",
    "plt.imshow(grid_img)\n",
    "plt.subplot(122)\n",
    "plt.imshow(rock_img)"
   ]
  },
  {
   "cell_type": "markdown",
   "metadata": {},
   "source": [
    "## Perspective Transform\n",
    "\n",
    "Define the perspective transform function from the lesson and test it on an image. Also, the view from the rover excludes the environment outside its field of vision. We implement this by using the variable \"mask\" The areas in the map outside the field of vision is assigned the pixel value of 0."
   ]
  },
  {
   "cell_type": "code",
   "execution_count": 68,
   "metadata": {},
   "outputs": [
    {
     "data": {
      "text/plain": [
       "<matplotlib.image.AxesImage at 0x1384354a8>"
      ]
     },
     "execution_count": 68,
     "metadata": {},
     "output_type": "execute_result"
    }
   ],
   "source": [
    "# Define a function to perform a perspective transform\n",
    "# I've used the example grid image above to choose source points for the\n",
    "# grid cell in front of the rover (each grid cell is 1 square meter in the sim)\n",
    "# Define a function to perform a perspective transform\n",
    "def perspect_transform(img, src, dst):\n",
    "           \n",
    "    M = cv2.getPerspectiveTransform(src, dst)\n",
    "    warped = cv2.warpPerspective(img, M, (img.shape[1], img.shape[0]))# keep same size as input image \n",
    "    mask = cv2.warpPerspective(np.ones_like(img[:,:,0]), M, (img.shape[1], img.shape[0])) # the image size is always given by WIDTH X HEIGHT and hence image.shape[1],image.shape[0]\n",
    "    \n",
    "    return warped,mask\n",
    "\n",
    "\n",
    "# Define calibration box in source (actual) and destination (desired) coordinates\n",
    "# These source and destination points are defined to warp the image\n",
    "# to a grid where each 10x10 pixel square represents 1 square meter\n",
    "# The destination box will be 2*dst_size on each side\n",
    "dst_size = 5 \n",
    "# Set a bottom offset to account for the fact that the bottom of the image \n",
    "# is not the position of the rover but a bit in front of it\n",
    "# this is just a rough guess, feel free to change it!\n",
    "bottom_offset = 6\n",
    "source = np.float32([[14, 140], [301 ,140],[200, 96], [118, 96]])\n",
    "destination = np.float32([[image.shape[1]/2 - dst_size, image.shape[0] - bottom_offset],\n",
    "                  [image.shape[1]/2 + dst_size, image.shape[0] - bottom_offset],\n",
    "                  [image.shape[1]/2 + dst_size, image.shape[0] - 2*dst_size - bottom_offset], \n",
    "                  [image.shape[1]/2 - dst_size, image.shape[0] - 2*dst_size - bottom_offset],\n",
    "                  ])\n",
    "warped,mask = perspect_transform(image, source, destination)\n",
    "fig=plt.figure(figsize=(12,3)) # figsize w,h tuple in inches\n",
    "plt.subplot(121)\n",
    "plt.imshow(warped)\n",
    "plt.subplot(122)\n",
    "plt.imshow(mask,cmap=\"gray\")\n",
    "#scipy.misc.imsave('../output/warped_example.jpg', warped)"
   ]
  },
  {
   "cell_type": "markdown",
   "metadata": {},
   "source": [
    "## Color Thresholding\n",
    "Define the color thresholding function from the lesson and apply it to the warped image\n",
    "\n",
    "**TODO:** Ultimately, you want your map to not just include navigable terrain but also obstacles and the positions of the rock samples you're searching for.  Modify this function or write a new function that returns the pixel locations of obstacles (areas below the threshold) and rock samples (yellow rocks in calibration images), such that you can map these areas into world coordinates as well.  \n",
    "**Hints and Suggestion:** \n",
    "* For obstacles you can just invert your color selection that you used to detect ground pixels, i.e., if you've decided that everything above the threshold is navigable terrain, then everthing below the threshold must be an obstacle!\n",
    "\n",
    "\n",
    "* For rocks, think about imposing a lower and upper boundary in your color selection to be more specific about choosing colors.  You can investigate the colors of the rocks (the RGB pixel values) in an interactive matplotlib window to get a feel for the appropriate threshold range (keep in mind you may want different ranges for each of R, G and B!).  Feel free to get creative and even bring in functions from other libraries.  Here's an example of [color selection](http://opencv-python-tutroals.readthedocs.io/en/latest/py_tutorials/py_imgproc/py_colorspaces/py_colorspaces.html) using OpenCV.  \n",
    "\n",
    "* **Beware However:** if you start manipulating images with OpenCV, keep in mind that it defaults to `BGR` instead of `RGB` color space when reading/writing images, so things can get confusing."
   ]
  },
  {
   "cell_type": "code",
   "execution_count": 69,
   "metadata": {},
   "outputs": [
    {
     "data": {
      "text/plain": [
       "<matplotlib.image.AxesImage at 0x138e108d0>"
      ]
     },
     "execution_count": 69,
     "metadata": {},
     "output_type": "execute_result"
    }
   ],
   "source": [
    "# Identify pixels above the threshold\n",
    "# Threshold of RGB > 160 does a nice job of identifying ground pixels only\n",
    "def color_thresh(img, rgb_thresh=(160, 160, 160)):\n",
    "    # Create an array of zeros same xy size as img, but single channel\n",
    "    color_select = np.zeros_like(img[:,:,0])\n",
    "    \n",
    "    \n",
    "    \n",
    "    # Require that each pixel be above all three threshold values in RGB\n",
    "    # above_thresh will now contain a boolean array with \"True\"\n",
    "    # where threshold was met\n",
    "    above_thresh = (img[:,:,0] > rgb_thresh[0]) \\\n",
    "                & (img[:,:,1] > rgb_thresh[1]) \\\n",
    "                & (img[:,:,2] > rgb_thresh[2])\n",
    "    \n",
    "    \n",
    "    # Index the array of zeros with the boolean array and set to 1\n",
    "    color_select[above_thresh] = 1\n",
    "    \n",
    "    \n",
    "    \n",
    "    # Return the binary image\n",
    "    return color_select\n",
    "    \n",
    "#Identify the obstacles\n",
    "def obstacles(img,rgb_thresh=(160,160,160)):\n",
    "    #Create an array of obstacles\n",
    "    obs_select=np.zeros_like(img[:,:,1])\n",
    "    \n",
    "    #The rest of the environment below the threshold is the obstacle\n",
    "    below_thresh = (img[:,:,0]<rgb_thresh[0])\\\n",
    "                & (img[:,:,1]<rgb_thresh[1])\\\n",
    "                & (img[:,:,2]<rgb_thresh[2])\n",
    "            \n",
    "    #Index the array of obstacles with boolean array and set to 1\n",
    "    obs_select[below_thresh] = 1\n",
    "    \n",
    "    #Return the obstacles inimage\n",
    "    return obs_select\n",
    "\n",
    "#Detecting the yellow rocks\n",
    "\n",
    "def rock_thresh(img, threshold=(100, 100, 50)):\n",
    "\n",
    "# Create an array of zeros same xy size as img, but single channel\n",
    "    color_select = np.zeros_like(img[:, :, 0])\n",
    "# Require that each pixel be above all three threshold values in RGB\n",
    "# above_thresh will now contain a boolean array with \"True\"\n",
    "# where threshold was met\n",
    "    above_thresh = ((img[:, :, 0] > threshold[0]) \\\n",
    "                     & (img[:, :, 1] > threshold[1]) \\\n",
    "                     & (img[:, :, 2] < threshold[2]))\n",
    "# Index the array of zeros with the boolean array and set to 1\n",
    "    color_select[above_thresh] = 1\n",
    "    return color_select\n",
    "    \n",
    "threshed = color_thresh(warped)\n",
    "obstacle = obstacles(warped)\n",
    "rocks = rock_thresh(rock_img)\n",
    "\n",
    "#plotting the figures\n",
    "fig=plt.figure(figsize=(12,3))\n",
    "plt.subplot(131)\n",
    "plt.title('Navigable terrain')\n",
    "plt.imshow(threshed, cmap='hot')\n",
    "plt.subplot(132)\n",
    "plt.title('Obstacles')\n",
    "plt.imshow(obstacle,cmap='hot')\n",
    "plt.subplot(133)\n",
    "plt.title('Rocks')\n",
    "plt.imshow(rocks,cmap='hot')\n",
    "\n",
    "\n",
    "#scipy.misc.imsave('../output/warped_threshed.jpg', threshed*255)"
   ]
  },
  {
   "cell_type": "markdown",
   "metadata": {},
   "source": [
    "## Coordinate Transformations\n",
    "Define the functions used to do coordinate transforms and apply them to an image."
   ]
  },
  {
   "cell_type": "code",
   "execution_count": 70,
   "metadata": {
    "outputExpanded": false
   },
   "outputs": [
    {
     "data": {
      "text/plain": [
       "<matplotlib.patches.FancyArrow at 0x139bb05f8>"
      ]
     },
     "execution_count": 70,
     "metadata": {},
     "output_type": "execute_result"
    }
   ],
   "source": [
    "def rover_coords(binary_img):\n",
    "    # Identify nonzero pixels\n",
    "    ypos, xpos = binary_img.nonzero()\n",
    "    # Calculate pixel positions with reference to the rover position being at the \n",
    "    # center bottom of the image.  \n",
    "    x_pixel = np.absolute(ypos - binary_img.shape[1]).astype(np.float)\n",
    "    y_pixel = -(xpos - binary_img.shape[0]).astype(np.float)\n",
    "    return x_pixel, y_pixel\n",
    "\n",
    "# Define a function to convert to radial coords in rover space\n",
    "def to_polar_coords(x_pixel, y_pixel):\n",
    "    # Convert (x_pixel, y_pixel) to (distance, angle) \n",
    "    # in polar coordinates in rover space\n",
    "    # Calculate distance to each pixel\n",
    "    dist = np.sqrt(x_pixel**2 + y_pixel**2)\n",
    "    # Calculate angle away from vertical for each pixel\n",
    "    angles = np.arctan2(y_pixel, x_pixel)\n",
    "    return dist, angles\n",
    "\n",
    "# Define a function to apply a rotation to pixel positions\n",
    "def rotate_pix(xpix, ypix, yaw):\n",
    "    # TODO:\n",
    "    # Convert yaw to radians\n",
    "    # Apply a rotation\n",
    "    yaw_rad=np.radians(yaw)\n",
    "    xpix_rotated = xpix * np.cos(yaw_rad) - ypix * np.sin(yaw_rad)\n",
    "    ypix_rotated = xpix * np.sin(yaw_rad) + ypix * np.cos(yaw_rad)\n",
    "    # Return the result  \n",
    "    return xpix_rotated, ypix_rotated\n",
    "\n",
    "# Define a function to perform a translation\n",
    "def translate_pix(xpix_rot, ypix_rot, xpos, ypos, scale): \n",
    "    # TODO:\n",
    "    # Apply a scaling and a translation\n",
    "    scale = 10\n",
    "    xpix_translated = np.int_(xpos + (xpix_rot/scale))\n",
    "    ypix_translated = np.int_(ypos + (ypix_rot/scale))\n",
    "    # Return the result  \n",
    "    return xpix_translated, ypix_translated\n",
    "\n",
    "# Define a function to apply rotation and translation (and clipping)\n",
    "# Once you define the two functions above this function should work\n",
    "def pix_to_world(xpix, ypix, xpos, ypos, yaw, world_size, scale):\n",
    "    # Apply rotation\n",
    "    xpix_rot, ypix_rot = rotate_pix(xpix, ypix, yaw)\n",
    "    # Apply translation\n",
    "    xpix_tran, ypix_tran = translate_pix(xpix_rot, ypix_rot, xpos, ypos, scale)\n",
    "    # Perform rotation, translation and clipping all at once\n",
    "    x_pix_world = np.clip(np.int_(xpix_tran), 0, world_size - 1)\n",
    "    y_pix_world = np.clip(np.int_(ypix_tran), 0, world_size - 1)\n",
    "    # Return the result\n",
    "    return x_pix_world, y_pix_world\n",
    "\n",
    "# Grab another random image\n",
    "idx = np.random.randint(0, len(img_list)-1)\n",
    "image = mpimg.imread(img_list[idx])\n",
    "warped,mask = perspect_transform(image, source, destination)\n",
    "threshed = color_thresh(warped)\n",
    "\n",
    "# Calculate pixel values in rover-centric coords and distance/angle to all pixels\n",
    "xpix, ypix = rover_coords(threshed)\n",
    "dist, angles = to_polar_coords(xpix, ypix)\n",
    "mean_dir = np.mean(angles)\n",
    "\n",
    "# Do some plotting\n",
    "fig = plt.figure(figsize=(12,9))\n",
    "plt.subplot(221)\n",
    "plt.imshow(image)\n",
    "plt.subplot(222)\n",
    "plt.imshow(warped)\n",
    "plt.subplot(223)\n",
    "plt.imshow(threshed,cmap='gray')\n",
    "plt.subplot(224)\n",
    "plt.plot(xpix, ypix, '.')\n",
    "plt.ylim(-160, 160)\n",
    "plt.xlim(0, 160)\n",
    "arrow_length = 100\n",
    "x_arrow = arrow_length * np.cos(mean_dir)\n",
    "y_arrow = arrow_length * np.sin(mean_dir)\n",
    "plt.arrow(0, 0, x_arrow, y_arrow, color='red', zorder=2, head_width=10, width=2)\n",
    "\n"
   ]
  },
  {
   "cell_type": "markdown",
   "metadata": {},
   "source": [
    "## Read in saved data and ground truth map of the world\n",
    "The next cell is all setup to read your saved data into a `pandas` dataframe.  Here you'll also read in a \"ground truth\" map of the world, where white pixels (pixel value = 1) represent navigable terrain.  \n",
    "\n",
    "After that, we'll define a class to store telemetry data and pathnames to images.  When you instantiate this class (`data = Databucket()`) you'll have a global variable called `data` that you can refer to for telemetry and map data within the `process_image()` function in the following cell.  \n"
   ]
  },
  {
   "cell_type": "code",
   "execution_count": 71,
   "metadata": {
    "collapsed": true,
    "inputHidden": false,
    "outputHidden": false
   },
   "outputs": [],
   "source": [
    "# Import pandas and read in csv file as a dataframe\n",
    "import pandas as pd\n",
    "# Change the path below to your data directory\n",
    "# If you are in a locale (e.g., Europe) that uses ',' as the decimal separator\n",
    "# change the '.' to ','\n",
    "df = pd.read_csv('../test_dataset/robot_log.csv', delimiter=';', decimal='.')\n",
    "csv_img_list = df[\"Path\"].tolist() # Create list of image pathnames\n",
    "#print (csv_img_list)\n",
    "# Read in ground truth map and create a 3-channel image with it\n",
    "ground_truth = mpimg.imread('../calibration_images/map_bw.png')\n",
    "ground_truth_3d = np.dstack((ground_truth*0, ground_truth*255, ground_truth*0)).astype(np.float)\n",
    "\n",
    "# Creating a class to be the data container\n",
    "# Will read in saved data from csv file and populate this object\n",
    "# Worldmap is instantiated as 200 x 200 grids corresponding \n",
    "# to a 200m x 200m space (same size as the ground truth map: 200 x 200 pixels)\n",
    "# This encompasses the full range of output position values in x and y from the sim\n",
    "class Databucket():\n",
    "    def __init__(self):\n",
    "        self.images = csv_img_list  \n",
    "        self.xpos = df[\"X_Position\"].values\n",
    "        self.ypos = df[\"Y_Position\"].values\n",
    "        self.yaw = df[\"Yaw\"].values\n",
    "        self.count = -1 # This will be a running index, setting to -1 is a hack\n",
    "                        # because moviepy (below) seems to run one extra iteration\n",
    "        self.worldmap = np.zeros((200, 200, 3)).astype(np.float)\n",
    "        self.ground_truth = ground_truth_3d # Ground truth worldmap\n",
    "\n",
    "# Instantiate a Databucket().. this will be a global variable/object\n",
    "# that you can refer to in the process_image() function below\n",
    "data = Databucket()\n"
   ]
  },
  {
   "cell_type": "raw",
   "metadata": {},
   "source": [
    "## Write a function to process stored images\n",
    "\n",
    "Modify the `process_image()` function below by adding in the perception step processes (functions defined above) to perform image analysis and mapping.  The following cell is all set up to use this `process_image()` function in conjunction with the `moviepy` video processing package to create a video from the images you saved taking data in the simulator.  \n",
    "\n",
    "In short, you will be passing individual images into `process_image()` and building up an image called `output_image` that will be stored as one frame of video.  You can make a mosaic of the various steps of your analysis process and add text as you like (example provided below).  \n",
    "\n",
    "\n",
    "\n",
    "To start with, you can simply run the next three cells to see what happens, but then go ahead and modify them such that the output video demonstrates your mapping process.  Feel free to get creative!"
   ]
  },
  {
   "cell_type": "code",
   "execution_count": 72,
   "metadata": {
    "collapsed": true
   },
   "outputs": [],
   "source": [
    "\n",
    "# Define a function to pass stored images to\n",
    "# reading rover position and yaw angle from csv file\n",
    "# This function will be used by moviepy to create an output video\n",
    "def process_image(img):\n",
    "    # Example of how to use the Databucket() object defined above\n",
    "    # to print the current x, y and yaw values \n",
    "    # print(data.xpos[data.count], data.ypos[data.count], data.yaw[data.count])\n",
    "\n",
    "    # TODO: \n",
    "    # 1) Define source and destination points for perspective transform\n",
    "    # 2) Apply perspective transform\n",
    "    # 3) Apply color threshold to identify navigable terrain/obstacles/rock samples\n",
    "    # 4) Convert thresholded image pixel values to rover-centric coords\n",
    "    # 5) Convert rover-centric pixel values to world coords\n",
    "    # 6) Update worldmap (to be displayed on right side of screen)\n",
    "        # Example: data.worldmap[obstacle_y_world, obstacle_x_world, 0] += 1\n",
    "        #          data.worldmap[rock_y_world, rock_x_world, 1] += 1\n",
    "        #          data.worldmap[navigable_y_world, navigable_x_world, 2] += 1\n",
    "\n",
    "    # 7) Make a mosaic image, below is some example code\n",
    "        \n",
    "    \n",
    "    # 1)Defining source and destination points for perspective transform\n",
    "    dst_size=5\n",
    "    bottom_offset=6\n",
    "    \n",
    "    source=np.float32([[175,140],[200,140],[200,120],[175,120]])\n",
    "    destination=np.float32([[image.shape[1]/2-dst_size,image.shape[0]-bottom_offset],[image.shape[1]/2+dst_size,image.shape[0]-bottom_offset],[image.shape[1]/2+dst_size,image.shape[0]-2 * dst_size-bottom_offset],[image.shape[1]/2-dst_size,image.shape[0]-2*dst_size-bottom_offset]])\n",
    "    \n",
    "    # 2) Applying the perspective transform\n",
    "    warped,mask=perspect_transform(image,source,destination)\n",
    "    \n",
    "    \n",
    "    # 3) Applying the color threshold to identify navigable terrain/obstacles/rock samples\n",
    "    navigable_terrain=color_thresh(warped)\n",
    "    obstacle_map=np.absolute(np.float32(navigable_terrain - 1)) * mask\n",
    "    #rock_sample=rock_thresh(warped)\n",
    "    \n",
    "                            \n",
    "    # 4) Converting thresholded image pixel values to rover centric coords\n",
    "    xpix,ypix = rover_coords(navigable_terrain)\n",
    "    #obstacles_xpix,obstacles_ypix = rover_coords(obstacle)\n",
    "    #rock_xpix,rock_ypix = rover_coords(rock_sample)\n",
    "    #nav_xpix,nav_ypix = rover_coords(navigable_terrain)\n",
    "    \n",
    "    #in polar coords system\n",
    "    #dist,angle = to_polar_coords(xpix,ypix)\n",
    "    \n",
    "    # 5) Converting the rover coords to world coords\n",
    "    world_size = data.worldmap.shape[0]\n",
    "    scale = 2 * dst_size\n",
    "    xpos=data.xpos[data.count]\n",
    "    ypos=data.ypos[data.count]\n",
    "    yaw=data.yaw[data.count]\n",
    "    x_world,y_world = pix_to_world(xpix, ypix, xpos, ypos, yaw, world_size, scale)\n",
    "    \n",
    "    #extract the x and y pix of obstacles in rover coords and then convert them to world coords\n",
    "    obs_xpix,obs_ypix = rover_coords(obstacle_map)\n",
    "    obs_x_world,obs_y_world = pix_to_world(obs_xpix, obs_ypix, xpos, ypos, yaw, world_size, scale)\n",
    "                            \n",
    "    # 6) updating the world map\n",
    "    data.worldmap[obs_y_world, obs_x_world, 0] = 255\n",
    "    data.worldmap[y_world,x_world,2] = 255\n",
    "    nav_pix = data.worldmap[:,:,2] > 0\n",
    "    data.worldmap[nav_pix,0] = 0\n",
    "    \n",
    "    #Finding rocks\n",
    "    rock_map = rock_thresh(image, threshold=(100,100,50))\n",
    "    if rock_map.any():\n",
    "        rock_xpix, rock_ypix = rover_coords(rock_map)\n",
    "        rock_xworld, rock_yworld = pix_to_world(rock_xpix, rock_ypix, xpos, ypos,yaw, world_size, scale)\n",
    "        data.worldmap[rock_yworld,rock_xworld,:] = 255\n",
    "    # 7) Make a mosaic image, below is some example code                        \n",
    "    # First create a blank image (can be whatever shape you like)\n",
    "    output_image = np.zeros((image.shape[0] + data.worldmap.shape[0], image.shape[1]*2, 3))\n",
    "    \n",
    "        # Next you can populate regions of the image with various output\n",
    "        # Here I'm putting the original image in the upper left hand corner\n",
    "    output_image[0:image.shape[0], 0:image.shape[1]] = image\n",
    "\n",
    "        # Let's create more images to add to the mosaic, first a warped image\n",
    "    warped,mask = perspect_transform(image, source, destination)\n",
    "        # Add the warped image in the upper right hand corner\n",
    "    output_image[0:image.shape[0], image.shape[1]:] = warped\n",
    "\n",
    "        # Overlay worldmap with ground truth map\n",
    "    map_add = cv2.addWeighted(data.worldmap, 1, data.ground_truth, 0.5, 0)\n",
    "        # Flip map overlay so y-axis points upward and add to output_image \n",
    "    output_image[image.shape[0]:, 0:data.worldmap.shape[1]] = np.flipud(map_add)\n",
    "\n",
    "\n",
    "        # Then putting some text over the image\n",
    "    cv2.putText(output_image,\"Populate this image with your analyses to make a video!\", (20, 20), \n",
    "                cv2.FONT_HERSHEY_COMPLEX, 0.4, (255, 255, 255), 1)\n",
    "    if data.count < len(data.images)-1 :\n",
    "        data.count += 1 # Keep track of the index in the Databucket()\n",
    "    \n",
    "    return output_image"
   ]
  },
  {
   "cell_type": "markdown",
   "metadata": {},
   "source": [
    "## Make a video from processed image data\n",
    "Use the [moviepy](https://zulko.github.io/moviepy/) library to process images and create a video.\n",
    "  "
   ]
  },
  {
   "cell_type": "code",
   "execution_count": 73,
   "metadata": {
    "scrolled": false
   },
   "outputs": [
    {
     "name": "stdout",
     "output_type": "stream",
     "text": [
      "[MoviePy] >>>> Building video ../output/test_mapping.mp4\n",
      "[MoviePy] Writing video ../output/test_mapping.mp4\n"
     ]
    },
    {
     "name": "stderr",
     "output_type": "stream",
     "text": [
      "100%|██████████| 420/420 [00:07<00:00, 60.93it/s]"
     ]
    },
    {
     "name": "stdout",
     "output_type": "stream",
     "text": [
      "[MoviePy] Done.\n",
      "[MoviePy] >>>> Video ready: ../output/test_mapping.mp4 \n",
      "\n",
      "CPU times: user 6.01 s, sys: 822 ms, total: 6.84 s\n",
      "Wall time: 7.17 s\n"
     ]
    },
    {
     "name": "stderr",
     "output_type": "stream",
     "text": [
      "\n"
     ]
    }
   ],
   "source": [
    "# Import everything needed to edit/save/watch video clips\n",
    "#Import imageio since it was not pre-installed. however,\n",
    "import imageio\n",
    "imageio.plugins.ffmpeg.download()\n",
    "from moviepy.editor import VideoFileClip\n",
    "from moviepy.editor import ImageSequenceClip\n",
    "\n",
    "\n",
    "\n",
    "# Define pathname to save the output video\n",
    "output = '../output/test_mapping.mp4'\n",
    "data = Databucket() # Re-initialize data in case you're running this cell multiple times\n",
    "clip = ImageSequenceClip(data.images, fps=60) # Note: output video will be sped up because \n",
    "                                          # recording rate in simulator is fps=25\n",
    "new_clip = clip.fl_image(process_image) #NOTE: this function expects color images!!\n",
    "%time new_clip.write_videofile(output, audio=False)"
   ]
  },
  {
   "cell_type": "markdown",
   "metadata": {},
   "source": [
    "### This next cell should function as an inline video player\n",
    "If this fails to render the video, try running the following cell (alternative video rendering method).  You can also simply have a look at the saved mp4 in your `/output` folder"
   ]
  },
  {
   "cell_type": "code",
   "execution_count": 74,
   "metadata": {},
   "outputs": [
    {
     "data": {
      "text/html": [
       "\n",
       "<video width=\"960\" height=\"540\" controls>\n",
       "  <source src=\"../output/test_mapping.mp4\">\n",
       "</video>\n"
      ],
      "text/plain": [
       "<IPython.core.display.HTML object>"
      ]
     },
     "execution_count": 74,
     "metadata": {},
     "output_type": "execute_result"
    }
   ],
   "source": [
    "\n",
    "from IPython.display import HTML\n",
    "HTML(\"\"\"\n",
    "<video width=\"960\" height=\"540\" controls>\n",
    "  <source src=\"{0}\">\n",
    "</video>\n",
    "\"\"\".format(output))"
   ]
  },
  {
   "cell_type": "markdown",
   "metadata": {},
   "source": [
    "### Below is an alternative way to create a video in case the above cell did not work."
   ]
  },
  {
   "cell_type": "code",
   "execution_count": 75,
   "metadata": {},
   "outputs": [
    {
     "data": {
      "text/html": [
       "<video alt=\"test\" controls>\n",
       "                <source src=\"data:video/mp4;base64,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\" type=\"video/mp4\" />\n",
       "             </video>"
      ],
      "text/plain": [
       "<IPython.core.display.HTML object>"
      ]
     },
     "execution_count": 75,
     "metadata": {},
     "output_type": "execute_result"
    }
   ],
   "source": [
    "import io\n",
    "import base64\n",
    "video = io.open(output, 'r+b').read()\n",
    "encoded_video = base64.b64encode(video)\n",
    "HTML(data='''<video alt=\"test\" controls>\n",
    "                <source src=\"data:video/mp4;base64,{0}\" type=\"video/mp4\" />\n",
    "             </video>'''.format(encoded_video.decode('ascii')))"
   ]
  },
  {
   "cell_type": "code",
   "execution_count": null,
   "metadata": {
    "collapsed": true
   },
   "outputs": [],
   "source": []
  }
 ],
 "metadata": {
  "anaconda-cloud": {},
  "kernel_info": {
   "name": "python3"
  },
  "kernelspec": {
   "display_name": "Python 3",
   "language": "python",
   "name": "python3"
  },
  "language_info": {
   "codemirror_mode": {
    "name": "ipython",
    "version": 3
   },
   "file_extension": ".py",
   "mimetype": "text/x-python",
   "name": "python",
   "nbconvert_exporter": "python",
   "pygments_lexer": "ipython3",
   "version": "3.5.2"
  },
  "widgets": {
   "state": {},
   "version": "1.1.2"
  }
 },
 "nbformat": 4,
 "nbformat_minor": 1
}
